{
 "cells": [
  {
   "cell_type": "code",
   "execution_count": 3,
   "id": "c0f8847b-c856-4302-8c7a-cad45d7af919",
   "metadata": {},
   "outputs": [
    {
     "name": "stdout",
     "output_type": "stream",
     "text": [
      "[156.12425231933594, 122.3375244140625, 88.79658508300781, 157.00978088378906, 123.87958526611328, 89.26299285888672, 123.79393768310547, 90.06999969482422, 157.20849609375, 123.96354675292969, 90.6637954711914, 157.44515991210938, 157.71437072753906, 124.49594116210938, 91.5401382446289, 124.72026062011719, 91.65074920654297, 158.2939910888672, 158.3688201904297, 125.10381317138672, 91.90890502929688, 158.7845001220703, 125.51364135742188, 92.06622314453125, 125.54891967773438, 159.98638916015625, 92.52580261230469, 160.5550994873047, 91.27584838867188, 126.00484466552734]\n",
      "[390.21728515625, 389.5465393066406, 388.7675476074219, 357.3207092285156, 357.5968017578125, 357.4189758300781, 326.19464111328125, 325.84906005859375, 326.4840393066406, 295.0368957519531, 294.49267578125, 295.005615234375, 263.6545104980469, 264.0482482910156, 263.1841735839844, 232.41000366210938, 231.68670654296875, 231.65951538085938, 200.95217895507812, 199.95391845703125, 199.76348876953125, 169.2703094482422, 168.6704864501953, 168.5010223388672, 138.06297302246094, 137.14666748046875, 136.45310974121094, 109.59008026123047, 108.21311950683594, 104.7074966430664]\n"
     ]
    },
    {
     "data": {
      "text/plain": [
       "-1"
      ]
     },
     "execution_count": 3,
     "metadata": {},
     "output_type": "execute_result"
    }
   ],
   "source": [
    "# Standard imports\n",
    "import cv2\n",
    "import numpy as np;\n",
    " \n",
    "# Read image\n",
    "img_grayscale = cv2.imread('FingertipBlobs.png',cv2.IMREAD_GRAYSCALE)\n",
    "\n",
    "# Setup SimpleBlobDetector parameters.\n",
    "params = cv2.SimpleBlobDetector_Params()\n",
    "\n",
    "# Change thresholds\n",
    "params.minThreshold = 10\n",
    "params.maxThreshold = 200\n",
    "\n",
    "params.filterByColor = 1\n",
    "params.blobColor = 255\n",
    "\n",
    "# Filter by Area.\n",
    "params.filterByArea = True\n",
    "params.minArea = 105\n",
    "\n",
    "# Filter by Circularity\n",
    "params.filterByCircularity = False\n",
    "params.minCircularity = 0.1\n",
    "\n",
    "# Filter by Convexity\n",
    "params.filterByConvexity = False\n",
    "params.minConvexity = 0.87\n",
    "\n",
    "# Filter by Inertia\n",
    "params.filterByInertia = True\n",
    "params.minInertiaRatio = 0.6\n",
    "\n",
    "# Create a detector with the parameters\n",
    "# OLD: detector = cv2.SimpleBlobDetector(params)\n",
    "detector = cv2.SimpleBlobDetector_create(params)\n",
    "\n",
    "x_coords = []\n",
    "y_coords = []\n",
    "\n",
    "# Find the keypoints\n",
    "keypoints = detector.detect(img_grayscale)\n",
    "#print(dir(keypoints))\n",
    "for keyPoint in keypoints:\n",
    "    x = keyPoint.pt[0]\n",
    "    y = keyPoint.pt[1]\n",
    "    s = keyPoint.size\n",
    "    x_coords.append(x)\n",
    "    y_coords.append(y)\n",
    "    \n",
    "print(x_coords)\n",
    "print(y_coords)\n",
    "\n",
    "# Use the change in pin positions from one frame to the next to determine the velocity from one frame to another. \n",
    "# The magnitude and direction of the velocity can then be found. This can then be trained using SVM methods to determine slip.\n",
    "\n",
    "# Draw detected blobs as red circles.\n",
    "# cv2.DRAW_MATCHES_FLAGS_DRAW_RICH_KEYPOINTS ensures the size of the circle corresponds to the size of blob\n",
    "im_with_keypoints = cv2.drawKeypoints(img_grayscale, keypoints, np.array([]), (0,0,255), cv2.DRAW_MATCHES_FLAGS_DRAW_RICH_KEYPOINTS)\n",
    " \n",
    "# Show keypoints\n",
    "cv2.imshow(\"Keypoints\", im_with_keypoints)\n",
    "cv2.waitKey(0)"
   ]
  },
  {
   "cell_type": "code",
   "execution_count": null,
   "id": "fc9f0ef9-a33a-4132-869d-f5be0a19cd4a",
   "metadata": {},
   "outputs": [],
   "source": []
  }
 ],
 "metadata": {
  "kernelspec": {
   "display_name": "Python 3 (ipykernel)",
   "language": "python",
   "name": "python3"
  },
  "language_info": {
   "codemirror_mode": {
    "name": "ipython",
    "version": 3
   },
   "file_extension": ".py",
   "mimetype": "text/x-python",
   "name": "python",
   "nbconvert_exporter": "python",
   "pygments_lexer": "ipython3",
   "version": "3.10.9"
  }
 },
 "nbformat": 4,
 "nbformat_minor": 5
}
